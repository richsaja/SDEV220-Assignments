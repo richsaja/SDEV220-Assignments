{
 "cells": [
  {
   "cell_type": "code",
   "execution_count": 1,
   "id": "af1ae753",
   "metadata": {},
   "outputs": [
    {
     "name": "stdout",
     "output_type": "stream",
     "text": [
      "Choose a number between 1 and 10: 6\n",
      "too low\n"
     ]
    }
   ],
   "source": [
    "import random\n",
    "secret = random.randint(1,10)\n",
    "\n",
    "guess = input(\"Choose a number between 1 and 10: \")\n",
    "guess = int(guess)\n",
    "\n",
    "if guess < secret:\n",
    "  print(\"too low\")\n",
    "elif guess == secret:\n",
    "  print(\"just right\")\n",
    "else:\n",
    "  print(\"too high\")"
   ]
  },
  {
   "cell_type": "code",
   "execution_count": 2,
   "id": "35feccce",
   "metadata": {},
   "outputs": [
    {
     "name": "stdout",
     "output_type": "stream",
     "text": [
      "watermelon\n"
     ]
    }
   ],
   "source": [
    "small = False\n",
    "green = True\n",
    "\n",
    "if not small and green:\n",
    "  print(\"watermelon\")\n",
    "elif small and green:\n",
    "  print(\"pea\")\n",
    "elif small and not green:\n",
    "  print(\"cherry\")\n",
    "else:\n",
    "  print(\"pumpkin\")"
   ]
  },
  {
   "cell_type": "code",
   "execution_count": 3,
   "id": "7b3264a6",
   "metadata": {},
   "outputs": [
    {
     "name": "stdout",
     "output_type": "stream",
     "text": [
      "3\n",
      "2\n",
      "1\n",
      "0\n"
     ]
    }
   ],
   "source": [
    "values = [3, 2, 1, 0]\n",
    "for i in values:\n",
    "  print(i)"
   ]
  },
  {
   "cell_type": "code",
   "execution_count": 4,
   "id": "c438e2ee",
   "metadata": {},
   "outputs": [
    {
     "name": "stdout",
     "output_type": "stream",
     "text": [
      "too low\n",
      "too low\n",
      "too low\n",
      "too low\n",
      "too low\n",
      "too low\n",
      "found it\n"
     ]
    }
   ],
   "source": [
    "guess_me = 7\n",
    "number = 1\n",
    "comparing = True\n",
    "\n",
    "while comparing:\n",
    "  if number < guess_me:\n",
    "    print(\"too low\")\n",
    "    number += 1\n",
    "  elif number > guess_me:\n",
    "    print(\"oops\")\n",
    "  else:\n",
    "    print(\"found it\")\n",
    "    comparing = False"
   ]
  },
  {
   "cell_type": "code",
   "execution_count": 5,
   "id": "48535e5f",
   "metadata": {},
   "outputs": [
    {
     "name": "stdout",
     "output_type": "stream",
     "text": [
      "too low\n",
      "too low\n",
      "too low\n",
      "too low\n",
      "too low\n",
      "found it!\n"
     ]
    }
   ],
   "source": [
    "guess_me = 5\n",
    "\n",
    "for number in range(10):\n",
    "  if number < guess_me:\n",
    "    print(\"too low\")\n",
    "  elif number == guess_me:\n",
    "    print(\"found it!\")\n",
    "    break\n",
    "  else:\n",
    "    print(\"oops\")\n",
    "    break"
   ]
  }
 ],
 "metadata": {
  "kernelspec": {
   "display_name": "Python 3 (ipykernel)",
   "language": "python",
   "name": "python3"
  },
  "language_info": {
   "codemirror_mode": {
    "name": "ipython",
    "version": 3
   },
   "file_extension": ".py",
   "mimetype": "text/x-python",
   "name": "python",
   "nbconvert_exporter": "python",
   "pygments_lexer": "ipython3",
   "version": "3.10.9"
  }
 },
 "nbformat": 4,
 "nbformat_minor": 5
}
