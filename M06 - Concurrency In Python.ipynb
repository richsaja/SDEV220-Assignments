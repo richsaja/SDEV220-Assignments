{
 "cells": [
  {
   "cell_type": "code",
   "execution_count": 1,
   "id": "be10a668",
   "metadata": {},
   "outputs": [],
   "source": [
    "from datetime import date\n",
    "\n",
    "today_date = date.today()\n",
    "today_new = today_date.isoformat()\n",
    "with open(\"today.txt\", \"wt\") as output:\n",
    "    output.write(today_new) "
   ]
  },
  {
   "cell_type": "code",
   "execution_count": 2,
   "id": "72511b5d",
   "metadata": {},
   "outputs": [],
   "source": [
    "with open(\"today.txt\", \"rt\") as input:\n",
    "    today_contains = input.read()"
   ]
  },
  {
   "cell_type": "code",
   "execution_count": 3,
   "id": "18d0e10d",
   "metadata": {},
   "outputs": [
    {
     "name": "stdout",
     "output_type": "stream",
     "text": [
      "2023-07-17\n"
     ]
    }
   ],
   "source": [
    "print(today_contains)"
   ]
  }
 ],
 "metadata": {
  "kernelspec": {
   "display_name": "Python 3 (ipykernel)",
   "language": "python",
   "name": "python3"
  },
  "language_info": {
   "codemirror_mode": {
    "name": "ipython",
    "version": 3
   },
   "file_extension": ".py",
   "mimetype": "text/x-python",
   "name": "python",
   "nbconvert_exporter": "python",
   "pygments_lexer": "ipython3",
   "version": "3.10.9"
  }
 },
 "nbformat": 4,
 "nbformat_minor": 5
}
